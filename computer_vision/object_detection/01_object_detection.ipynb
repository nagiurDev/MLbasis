{
 "cells": [
  {
   "cell_type": "markdown",
   "metadata": {},
   "source": [
    "# Object Detection with `Convolutional neural network`"
   ]
  },
  {
   "cell_type": "markdown",
   "metadata": {},
   "source": [
    "## 1. Image Data"
   ]
  },
  {
   "cell_type": "markdown",
   "metadata": {},
   "source": [
    "Image Data usually made up of 3 dimensions.\n",
    "1. Height\n",
    "2. Width\n",
    "3. Color\n",
    "\n",
    "![alt text](http://xrds.acm.org/blog/wp-content/uploads/2016/06/Figure1.png)"
   ]
  },
  {
   "cell_type": "markdown",
   "metadata": {},
   "source": [
    "## 2. Convolutional Neural Network(CNN)"
   ]
  },
  {
   "cell_type": "markdown",
   "metadata": {},
   "source": [
    "A Convolutional Neural Network (CNN) is a type of deep learning model primarily used for processing structured grid data, like images. It employs convolutional layers to automatically learn spatial hierarchies of features through local connections and shared weights, making it effective for tasks like image classification and object detection.\n",
    "\n",
    "**Dense Layer:** A dense layer will consider the ENTIRE image. It will look at all the pixels and use that information to generate some output.\n",
    "\n",
    "**Convolutional Layer:** The convolutional layer will look at specific parts of the image. In this example let's say it analyzes the highlighted parts below and detects patterns there."
   ]
  },
  {
   "cell_type": "markdown",
   "metadata": {},
   "source": [
    "## 3. Pooling Layer\n",
    "\n",
    "1. **Purpose**: Downsamples feature maps to reduce their dimensions.\n",
    "2. **Operation**: Extracts windows from feature maps, returning a response map.\n",
    "3. **Aggregation**: Can return max, min, or average values from each channel.\n",
    "4. **Common Size**: Typically uses a 2x2 window.\n",
    "5. **Stride**: Often set to 2, reducing feature map size by a factor of two.\n",
    "6. **Output**: Produces a response map that is 2x smaller than the input feature map. \n"
   ]
  },
  {
   "cell_type": "markdown",
   "metadata": {},
   "source": []
  }
 ],
 "metadata": {
  "language_info": {
   "name": "python"
  }
 },
 "nbformat": 4,
 "nbformat_minor": 2
}
